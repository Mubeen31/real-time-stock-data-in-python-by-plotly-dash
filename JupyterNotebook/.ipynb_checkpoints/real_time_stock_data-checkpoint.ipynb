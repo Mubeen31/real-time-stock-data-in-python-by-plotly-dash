{
 "cells": [
  {
   "cell_type": "code",
   "execution_count": 1,
   "id": "b983099b",
   "metadata": {},
   "outputs": [],
   "source": [
    "import pandas as pd\n",
    "from urllib.request import Request, urlopen\n",
    "import time\n",
    "import csv\n",
    "from datetime import datetime\n",
    "import ssl\n",
    "ssl._create_default_https_context = ssl._create_unverified_context"
   ]
  },
  {
   "cell_type": "code",
   "execution_count": 2,
   "id": "c8ff5437",
   "metadata": {},
   "outputs": [],
   "source": [
    "url = 'https://goldprice.org/cryptocurrency-price'\n",
    "import_request = Request(url, headers = {'User-Agent': 'Chrome/91.0.4472.77'})\n",
    "web_page_data = urlopen(import_request).read()\n",
    "df = pd.read_html(web_page_data)\n",
    "# print(df)\n",
    "\n",
    "# Remove columns\n",
    "df[0].drop(df[0].columns[[4, 5, 7]], axis = 1, inplace = True)\n",
    "\n",
    "# Rename column\n",
    "df[0].rename(columns = {'Change (24h)': 'Change (24h) %'}, inplace = True)\n",
    "\n",
    "# Remove % and $ symbols from columns\n",
    "df[0]['Price'] = list(map(lambda x: x[1:], df[0]['Price'].values))\n",
    "df[0]['Change (24h) %'] = list(map(lambda x: x[:-1], df[0]['Change (24h) %'].values))\n",
    "df[0]['Market Cap.'] = list(map(lambda x: x[1:], df[0]['Market Cap.'].values))\n",
    "\n",
    "# Remove commas from columns\n",
    "df[0]['Price'] = df[0]['Price'].str.replace(',', '')\n",
    "df[0]['Market Cap.'] = df[0]['Market Cap.'].str.replace(',', '')\n",
    "\n",
    "# Change data type of column\n",
    "df[0]['Price'] = df[0]['Price'].astype(float).round(2)\n",
    "df[0]['Change (24h) %'] = df[0]['Change (24h) %'].astype(float)\n",
    "df[0]['Market Cap.'] = df[0]['Market Cap.'].astype('int64')\n",
    "\n",
    "# Change position of columns\n",
    "df[0] = df[0][['Rank', 'CryptoCurrency', 'Price', 'Change (24h) %', 'Market Cap.']]\n",
    "\n",
    "#time\n",
    "now = datetime.now()\n",
    "dt_string = now.strftime(\"%Y-%m-%d %H:%M:%S\")\n",
    "\n",
    "bitcoin_row = df[0]\n",
    "bitcoin_rank = bitcoin_row[bitcoin_row['CryptoCurrency'] == 'Bitcoin']['Rank'].iloc[0]\n",
    "bitcoin_currency = bitcoin_row[bitcoin_row['CryptoCurrency'] == 'Bitcoin']['CryptoCurrency'].iloc[0]\n",
    "bitcoin_price = bitcoin_row[bitcoin_row['CryptoCurrency'] == 'Bitcoin']['Price'].iloc[0]\n",
    "bitcoin_change = bitcoin_row[bitcoin_row['CryptoCurrency'] == 'Bitcoin']['Change (24h) %'].iloc[0]\n",
    "bitcoin_market_cap = bitcoin_row[bitcoin_row['CryptoCurrency'] == 'Bitcoin']['Market Cap.'].iloc[0]"
   ]
  },
  {
   "cell_type": "code",
   "execution_count": null,
   "id": "b469a839",
   "metadata": {},
   "outputs": [],
   "source": []
  },
  {
   "cell_type": "code",
   "execution_count": null,
   "id": "06bd48a8",
   "metadata": {},
   "outputs": [],
   "source": []
  }
 ],
 "metadata": {
  "kernelspec": {
   "display_name": "Python 3 (ipykernel)",
   "language": "python",
   "name": "python3"
  },
  "language_info": {
   "codemirror_mode": {
    "name": "ipython",
    "version": 3
   },
   "file_extension": ".py",
   "mimetype": "text/x-python",
   "name": "python",
   "nbconvert_exporter": "python",
   "pygments_lexer": "ipython3",
   "version": "3.9.13"
  }
 },
 "nbformat": 4,
 "nbformat_minor": 5
}
